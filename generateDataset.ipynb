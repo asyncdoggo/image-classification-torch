{
 "cells": [
  {
   "cell_type": "code",
   "execution_count": 3,
   "metadata": {},
   "outputs": [],
   "source": [
    "import os\n",
    "import cv2\n",
    "import time"
   ]
  },
  {
   "cell_type": "code",
   "execution_count": 4,
   "metadata": {},
   "outputs": [
    {
     "name": "stdout",
     "output_type": "stream",
     "text": [
      "d:\\desktop\\gh\\image_recg\\sign_dataset\n"
     ]
    }
   ],
   "source": [
    "path = os.path.join(os.getcwd(), \"sign_dataset\")\n",
    "print(path)\n",
    "os.makedirs(path, exist_ok=True)"
   ]
  },
  {
   "cell_type": "code",
   "execution_count": 5,
   "metadata": {},
   "outputs": [],
   "source": [
    "classes = [\"ThumbUp\", \"ThumbDown\", \"Victory\"]\n",
    "total_images = 10"
   ]
  },
  {
   "cell_type": "code",
   "execution_count": 6,
   "metadata": {},
   "outputs": [],
   "source": [
    "\n",
    "for cl in classes:\n",
    "    os.makedirs(os.path.join(path, cl), exist_ok=True)"
   ]
  },
  {
   "cell_type": "code",
   "execution_count": 7,
   "metadata": {},
   "outputs": [],
   "source": [
    "\n",
    "# import numpy as np\n",
    "# import cv2\n",
    "# import time\n",
    "\n",
    "# # Create a VideoCapture object\n",
    "# cap = cv2.VideoCapture(0)\n",
    "\n",
    "# # Check if camera opened successfully\n",
    "# if (cap.isOpened() == False):\n",
    "#   print(\"Unable to read camera\")\n",
    "\n",
    "# frame_width = int(cap.get(3))\n",
    "# frame_height = int(cap.get(4))\n",
    "# try:\n",
    "#   for cl in classes:\n",
    "#       time.sleep(4)\n",
    "#       print(\"For class\", cl)\n",
    "#       for i in range(total_images):\n",
    "#         time.sleep(4)\n",
    "#         ret, frame = cap.read()\n",
    "#         print(\"Image for {}, no. \".format(cl),i)\n",
    "#         cv2.imshow('{}'.format(cl), frame)\n",
    "#         cv2.imwrite(os.path.join(path, cl, f\"image_{i+1:04}.jpg\"), frame)\n",
    "#         # cv2.imwrite(f'dataset\\\\{cl}\\\\\"image_\"{i+1: 04}.jpg', frame)\n",
    "\n",
    "#         # Press Q on keyboard to stop recording\n",
    "#         if cv2.waitKey(1) & 0xFF == ord('q'):\n",
    "#           break\n",
    "# except Exception as err:\n",
    "#    print(err)\n",
    "# finally:\n",
    "#   cap.release()\n",
    "#   cv2.destroyAllWindows()"
   ]
  },
  {
   "cell_type": "code",
   "execution_count": 22,
   "metadata": {},
   "outputs": [
    {
     "name": "stdout",
     "output_type": "stream",
     "text": [
      "Capturing image  0\n",
      "Capturing image  1\n",
      "Capturing image  2\n",
      "Capturing image  3\n",
      "Capturing image  4\n",
      "Capturing image  5\n",
      "Capturing image  6\n",
      "Capturing image  7\n"
     ]
    },
    {
     "ename": "KeyboardInterrupt",
     "evalue": "",
     "output_type": "error",
     "traceback": [
      "\u001b[1;31m---------------------------------------------------------------------------\u001b[0m",
      "\u001b[1;31mKeyboardInterrupt\u001b[0m                         Traceback (most recent call last)",
      "Cell \u001b[1;32mIn[22], line 24\u001b[0m\n\u001b[0;32m     22\u001b[0m \u001b[38;5;28mprint\u001b[39m(\u001b[38;5;124m\"\u001b[39m\u001b[38;5;124mCapturing image \u001b[39m\u001b[38;5;124m\"\u001b[39m, i)\n\u001b[0;32m     23\u001b[0m \u001b[38;5;28;01mwhile\u001b[39;00m(\u001b[38;5;28;01mTrue\u001b[39;00m):\n\u001b[1;32m---> 24\u001b[0m   ret, frame \u001b[38;5;241m=\u001b[39m \u001b[43mcap\u001b[49m\u001b[38;5;241;43m.\u001b[39;49m\u001b[43mread\u001b[49m\u001b[43m(\u001b[49m\u001b[43m)\u001b[49m\n\u001b[0;32m     25\u001b[0m   \u001b[38;5;28;01mif\u001b[39;00m ret \u001b[38;5;241m==\u001b[39m \u001b[38;5;28;01mTrue\u001b[39;00m:\n\u001b[0;32m     26\u001b[0m     \u001b[38;5;66;03m# Display the resulting frame\u001b[39;00m\n\u001b[0;32m     27\u001b[0m     cv2\u001b[38;5;241m.\u001b[39mimshow(\u001b[38;5;124m'\u001b[39m\u001b[38;5;124mframe\u001b[39m\u001b[38;5;124m'\u001b[39m, frame)\n",
      "\u001b[1;31mKeyboardInterrupt\u001b[0m: "
     ]
    }
   ],
   "source": [
    "import numpy as np\n",
    "import cv2\n",
    "import time\n",
    "\n",
    "# Create a VideoCapture object\n",
    "try:\n",
    "  cap = cv2.VideoCapture(0)\n",
    "\n",
    "  # Check if camera opened successfully\n",
    "  if (cap.isOpened() == False):\n",
    "    print(\"Unable to read camera\")\n",
    "\n",
    "  frame_width = int(cap.get(3))\n",
    "  frame_height = int(cap.get(4))\n",
    "\n",
    "  for cl in classes:\n",
    "    # capture 10 images for each class\n",
    "    # allow user to press 'c' to capture image\n",
    "    # time.sleep(5)\n",
    "\n",
    "    for i in range(total_images):\n",
    "      print(\"Capturing image \", i)\n",
    "      while(True):\n",
    "        ret, frame = cap.read()\n",
    "        if ret == True:\n",
    "          # Display the resulting frame\n",
    "          cv2.imshow('frame', frame)\n",
    "\n",
    "          # Press c on keyboard to capture image\n",
    "          if cv2.waitKey(1) & 0xFF == ord('c'):\n",
    "            cv2.imwrite(os.path.join(path, cl, f\"image_{i+1:04}.jpg\"), frame)\n",
    "            # display a text on the frame indicating it's saved\n",
    "            text = cv2.putText(frame, f\"Saved {cl} image_{i+1:04}.jpg\", (0,50), cv2.FONT_HERSHEY_SIMPLEX, 0.75, (0,255,0), 2)\n",
    "            cv2.imshow('frame', text)\n",
    "            cv2.waitKey(500)\n",
    "            time.sleep(1)\n",
    "            break\n",
    "\n",
    "      # Save the captured frame\n",
    "except Exception as err:\n",
    "   print(err)\n",
    "finally:\n",
    "  cap.release()\n",
    "  cv2.destroyAllWindows()"
   ]
  },
  {
   "cell_type": "code",
   "execution_count": 10,
   "metadata": {},
   "outputs": [],
   "source": [
    "cap.release()\n",
    "cv2.destroyAllWindows()"
   ]
  },
  {
   "cell_type": "code",
   "execution_count": null,
   "metadata": {},
   "outputs": [],
   "source": []
  }
 ],
 "metadata": {
  "kernelspec": {
   "display_name": "OBJ_ENV",
   "language": "python",
   "name": "python3"
  },
  "language_info": {
   "codemirror_mode": {
    "name": "ipython",
    "version": 3
   },
   "file_extension": ".py",
   "mimetype": "text/x-python",
   "name": "python",
   "nbconvert_exporter": "python",
   "pygments_lexer": "ipython3",
   "version": "3.11.7"
  }
 },
 "nbformat": 4,
 "nbformat_minor": 2
}
